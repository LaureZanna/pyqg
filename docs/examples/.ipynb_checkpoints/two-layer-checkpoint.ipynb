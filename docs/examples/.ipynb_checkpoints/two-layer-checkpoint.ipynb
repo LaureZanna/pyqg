{
 "cells": [
  {
   "cell_type": "markdown",
   "metadata": {},
   "source": [
    "# Two-Layer QG Model Example"
   ]
  },
  {
   "cell_type": "markdown",
   "metadata": {},
   "source": [
    "Here is a quick overview of how to use the two-layer model. See the\n",
    ":py:class:`pyqg.QGModel` api documentation for further details.\n",
    "\n",
    "First import numpy, matplotlib, and pyqg:"
   ]
  },
  {
   "cell_type": "code",
   "execution_count": null,
   "metadata": {},
   "outputs": [],
   "source": [
    "import numpy as np\n",
    "from matplotlib import pyplot as plt\n",
    "%matplotlib inline\n",
    "\n",
    "#import pyqg\n",
    "import sys\n",
    "sys.path.insert(0, '/home/zl1574/pyqg_test')\n",
    "from pyqg_multilayer_doc import pyqg\n",
    "\n",
    "from pyqg import diagnostic_tools as tools"
   ]
  },
  {
   "cell_type": "markdown",
   "metadata": {},
   "source": [
    "## Initialize and Run the Model ##\n",
    "\n",
    "Here we set up a model which will run for 10 years and start averaging\n",
    "after 5 years. There are lots of parameters that can be specified as\n",
    "keyword arguments but we are just using the defaults."
   ]
  },
  {
   "cell_type": "code",
   "execution_count": null,
   "metadata": {},
   "outputs": [],
   "source": [
    "year = 24*60*60*360.\n",
    "m = pyqg.QGModel(tmax=10*year, twrite=10000, tavestart=5*year)\n",
    "m.run()"
   ]
  },
  {
   "cell_type": "markdown",
   "metadata": {},
   "source": [
    "## Convert Model Outpt to an xarray Dataset ##\n",
    "\n",
    "Model variables, coordinates, attributes, and metadata can be stored conveniently as an xarray Dataset. (Notice that this feature requires xarray to be installed on your machine. See here for installation instructions: http://xarray.pydata.org/en/stable/getting-started-guide/installing.html#instructions)"
   ]
  },
  {
   "cell_type": "code",
   "execution_count": null,
   "metadata": {},
   "outputs": [],
   "source": [
    "m_ds = m.to_dataset().isel(time=-1)\n",
    "m_ds"
   ]
  },
  {
   "cell_type": "markdown",
   "metadata": {},
   "source": [
    "## Visualize Output ##\n",
    "\n",
    "Let's assign a new data variable, ``q_upper``, as the **upper layer PV anomaly**. We access the PV values in the Dataset as ``m_ds.q``, which has two levels and a corresponding background PV gradient, ``m_ds.Qy``."
   ]
  },
  {
   "cell_type": "code",
   "execution_count": null,
   "metadata": {},
   "outputs": [],
   "source": [
    "m_ds['q_upper'] = m_ds.q.isel(lev=0) + m_ds.Qy.isel(lev=0)*m_ds.y\n",
    "m_ds['q_upper'].attrs = {'long_name': 'upper layer PV anomaly'}\n",
    "m_ds.q_upper.plot.contourf(levels=18, cmap='RdBu_r');"
   ]
  },
  {
   "cell_type": "markdown",
   "metadata": {},
   "source": [
    "## Plot Diagnostics ##\n",
    "\n",
    "The model automatically accumulates averages of certain diagnostics. We can \n",
    "find out what diagnostics are available by calling"
   ]
  },
  {
   "cell_type": "code",
   "execution_count": null,
   "metadata": {},
   "outputs": [],
   "source": [
    "m.describe_diagnostics()"
   ]
  },
  {
   "cell_type": "markdown",
   "metadata": {},
   "source": [
    "To look at the wavenumber energy spectrum, we plot the `KEspec` diagnostic.\n",
    "(Note that summing along the l-axis, as in this example, does not give us\n",
    "a true *isotropic* wavenumber spectrum.)"
   ]
  },
  {
   "cell_type": "code",
   "execution_count": null,
   "metadata": {},
   "outputs": [],
   "source": [
    "kr, kespec_upper = tools.calc_ispec(m, m_ds.KEspec.isel(lev=0).data)\n",
    "_, kespec_lower = tools.calc_ispec(m, m_ds.KEspec.isel(lev=1).data)\n",
    "\n",
    "plt.loglog(kr, kespec_upper, 'b.-', label='upper layer')\n",
    "plt.loglog(kr, kespec_lower, 'g.-', label='lower layer')\n",
    "plt.legend(loc='lower left')\n",
    "plt.ylim([1e-14,1e-8])\n",
    "plt.xlabel(r'k (m$^{-1}$)'); plt.grid()\n",
    "plt.title('Kinetic Energy Spectrum');"
   ]
  },
  {
   "cell_type": "markdown",
   "metadata": {},
   "source": [
    "We can also plot the spectral fluxes of energy."
   ]
  },
  {
   "cell_type": "code",
   "execution_count": null,
   "metadata": {},
   "outputs": [],
   "source": [
    "kr, APEgenspec = tools.calc_ispec(m, m_ds.APEgenspec.data)\n",
    "_, APEflux     = tools.calc_ispec(m, m_ds.APEflux.data)\n",
    "_, KEflux      = tools.calc_ispec(m, m_ds.KEflux.data)\n",
    "_, KEfrictionspec = tools.calc_ispec(m, m_ds.KEfrictionspec.data)\n",
    "_, Dissspec    = tools.calc_ispec(m, m_ds.Dissspec.data)\n",
    "\n",
    "ebud = [ APEgenspec,\n",
    "         APEflux,\n",
    "         KEflux,\n",
    "         KEfrictionspec,\n",
    "         Dissspec]\n",
    "ebud.append(-np.vstack(ebud).sum(axis=0))\n",
    "ebud_labels = ['APE gen','APE flux','KE flux','Bottom drag','Diss.','Resid.']\n",
    "[plt.semilogx(kr, term) for term in ebud]\n",
    "plt.legend(ebud_labels, loc='upper right')\n",
    "plt.xlim([m_ds.k[1:].min(), m_ds.k.max()])\n",
    "plt.xlabel(r'k (m$^{-1}$)'); plt.grid()\n",
    "plt.title('Spectral Energy Transfer');"
   ]
  }
 ],
 "metadata": {
  "kernelspec": {
   "display_name": "my_env",
   "language": "python",
   "name": "my_env"
  },
  "language_info": {
   "codemirror_mode": {
    "name": "ipython",
    "version": 3
   },
   "file_extension": ".py",
   "mimetype": "text/x-python",
   "name": "python",
   "nbconvert_exporter": "python",
   "pygments_lexer": "ipython3",
   "version": "3.9.7"
  }
 },
 "nbformat": 4,
 "nbformat_minor": 4
}
